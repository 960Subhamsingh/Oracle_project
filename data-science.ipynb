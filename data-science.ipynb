{
 "cells": [
  {
   "cell_type": "code",
   "execution_count": 1,
   "metadata": {},
   "outputs": [],
   "source": [
    "import cx_Oracle\n",
    "conn = cx_Oracle.connect('collage/tiger@localhost:1521/xe')\n",
    "conn = conn.cursor()"
   ]
  },
  {
   "cell_type": "markdown",
   "metadata": {},
   "source": [
    "create collage Database"
   ]
  },
  {
   "cell_type": "markdown",
   "metadata": {},
   "source": [
    "Create table ds_salaries"
   ]
  },
  {
   "cell_type": "code",
   "execution_count": 6,
   "metadata": {},
   "outputs": [],
   "source": [
    "create_table = conn.execute('CREATE TABLE ds_salaries( emp_id int, work_year SMALLINT NOT NULL, experience_level VARCHAR(5) NOT NULL,employment_type VARCHAR(5) NOT NULL,job_title VARCHAR(200) NOT NULL,salary INTEGER NOT NULL CHECK(salary > 0),salary_currency VARCHAR(30) NOT NULL, salary_in_usd INTEGER NOT NULL CHECK(salary_in_usd > 0),employee_residence VARCHAR(5) NOT NULL, remote_ratio SMALLINT NOT NULL, company_location VARCHAR(5) NOT NULL, company_size VARCHAR(2) NOT NULL )')"
   ]
  },
  {
   "cell_type": "markdown",
   "metadata": {},
   "source": [
    "Drop ds_salaries table"
   ]
  },
  {
   "cell_type": "code",
   "execution_count": 5,
   "metadata": {},
   "outputs": [],
   "source": [
    "conn.execute('drop table ds_salaries')"
   ]
  },
  {
   "cell_type": "markdown",
   "metadata": {},
   "source": [
    "Display the  existng data "
   ]
  },
  {
   "cell_type": "code",
   "execution_count": 7,
   "metadata": {},
   "outputs": [
    {
     "name": "stdout",
     "output_type": "stream",
     "text": [
      "(0, 2020, 'MI', 'FT', 'Data Scientist', 70000, 'EUR', 79833, 'DE', 0, 'DE', 'L')\n",
      "(1, 2020, 'SE', 'FT', 'Machine Learning Scientist', 260000, 'USD', 260000, 'JP', 0, 'JP', 'S')\n",
      "(2, 2020, 'SE', 'FT', 'Big Data Engineer', 85000, 'GBP', 109024, 'GB', 50, 'GB', 'M')\n",
      "(3, 2020, 'MI', 'FT', 'Product Data Analyst', 20000, 'USD', 20000, 'HN', 0, 'HN', 'S')\n",
      "(4, 2020, 'SE', 'FT', 'Machine Learning Engineer', 150000, 'USD', 150000, 'US', 50, 'US', 'L')\n",
      "(5, 2020, 'EN', 'FT', 'Data Analyst', 72000, 'USD', 72000, 'US', 100, 'US', 'L')\n",
      "(6, 2020, 'SE', 'FT', 'Lead Data Scientist', 190000, 'USD', 190000, 'US', 100, 'US', 'S')\n",
      "(7, 2020, 'MI', 'FT', 'Data Scientist', 11000000, 'HUF', 35735, 'HU', 50, 'HU', 'L')\n",
      "(8, 2020, 'MI', 'FT', 'Business Data Analyst', 135000, 'USD', 135000, 'US', 100, 'US', 'L')\n",
      "(9, 2020, 'SE', 'FT', 'Lead Data Engineer', 125000, 'USD', 125000, 'NZ', 50, 'NZ', 'S')\n",
      "(10, 2020, 'EN', 'FT', 'Data Scientist', 45000, 'EUR', 51321, 'FR', 0, 'FR', 'S')\n"
     ]
    }
   ],
   "source": [
    "data = conn.execute(' select * from  ds_salaries where emp_id <11')\n",
    "for i in data.fetchall():\n",
    "    print(i)"
   ]
  },
  {
   "cell_type": "markdown",
   "metadata": {},
   "source": [
    "the top 10 average salaries for the different data science job positions"
   ]
  },
  {
   "cell_type": "code",
   "execution_count": 8,
   "metadata": {},
   "outputs": [
    {
     "name": "stdout",
     "output_type": "stream",
     "text": [
      "('Data Analytics Lead', 405000)\n",
      "('Principal Data Engineer', 328333.33)\n",
      "('Financial Data Analyst', 275000)\n",
      "('Principal Data Scientist', 215242.43)\n",
      "('Director of Data Science', 195074)\n",
      "('Data Architect', 177873.91)\n",
      "('Applied Data Scientist', 175655)\n",
      "('Analytics Engineer', 175000)\n",
      "('Data Specialist', 165000)\n",
      "('Head of Data', 160162.6)\n",
      "('Machine Learning Scientist', 158412.5)\n",
      "('Data Science Manager', 158328.5)\n",
      "('Director of Data Engineering', 156738)\n",
      "('Head of Data Science', 146718.75)\n",
      "('Applied Machine Learning Scientist', 142068.75)\n",
      "('Lead Data Engineer', 139724.5)\n",
      "('Data Analytics Manager', 127134.29)\n",
      "('Cloud Data Engineer', 124647)\n",
      "('Data Engineering Manager', 123227.2)\n",
      "('Principal Data Analyst', 122500)\n",
      "('ML Engineer', 117504)\n",
      "('Machine Learning Manager', 117104)\n",
      "('Lead Data Scientist', 115190)\n",
      "('Data Engineer', 112725)\n",
      "('Research Scientist', 109019.5)\n",
      "('Data Scientist', 108187.83)\n",
      "('Computer Vision Software Engineer', 105248.67)\n",
      "('Staff Data Scientist', 105000)\n",
      "('Machine Learning Engineer', 104880.15)\n",
      "('Machine Learning Infrastructure Engineer', 101145)\n",
      "('Big Data Architect', 99703)\n",
      "('Data Analyst', 92893.06)\n",
      "('Lead Data Analyst', 92203)\n",
      "('Marketing Data Analyst', 88654)\n",
      "('Lead Machine Learning Engineer', 87932)\n",
      "('Machine Learning Developer', 85860.67)\n",
      "('Head of Machine Learning', 79039)\n",
      "('Business Data Analyst', 76691.2)\n",
      "('Data Science Engineer', 75803.33)\n",
      "('BI Data Analyst', 74755.17)\n",
      "('Data Science Consultant', 69420.71)\n",
      "('AI Scientist', 66135.57)\n",
      "('Data Analytics Engineer', 64799.25)\n",
      "('Finance Data Analyst', 61896)\n",
      "('ETL Developer', 54957)\n",
      "('Big Data Engineer', 51974)\n",
      "('Computer Vision Engineer', 44419.33)\n",
      "('NLP Engineer', 37236)\n",
      "('Product Data Analyst', 13036)\n",
      "('3D Computer Vision Researcher', 5409)\n"
     ]
    }
   ],
   "source": [
    "average= conn.execute('select job_title , round(avg(salary_in_usd),2) as salary_in_usd from ds_salaries group by job_title order by salary_in_usd  desc ')\n",
    "for i in  average.fetchall():\n",
    "    print(i)"
   ]
  },
  {
   "cell_type": "markdown",
   "metadata": {},
   "source": [
    "employed full-time make your salary higher\n",
    "\n",
    "PT = Part time\n",
    "FL = Freelance\n",
    "FT = Full time\n",
    "CT = Contract"
   ]
  },
  {
   "cell_type": "code",
   "execution_count": 9,
   "metadata": {},
   "outputs": [
    {
     "name": "stdout",
     "output_type": "stream",
     "text": [
      "('CT', 184575)\n",
      "('FT', 113468.07)\n",
      "('FL', 48000)\n",
      "('PT', 33070.5)\n"
     ]
    }
   ],
   "source": [
    "ep_sal= conn.execute('select employment_type , round(avg(salary_in_usd),2) as salary_in_usd from ds_salaries group by employment_type order by salary_in_usd  desc ')\n",
    "for i in ep_sal.fetchall():\n",
    "    print(i)"
   ]
  },
  {
   "cell_type": "markdown",
   "metadata": {},
   "source": [
    "job experience level impact your salary?\n",
    "\n",
    "EN = Entry level\n",
    "MI = Mid-level\n",
    "SE = Senior level\n",
    "EX = Executive level"
   ]
  },
  {
   "cell_type": "code",
   "execution_count": 10,
   "metadata": {},
   "outputs": [
    {
     "name": "stdout",
     "output_type": "stream",
     "text": [
      "('EX', 199392.04)\n",
      "('SE', 138617.29)\n",
      "('MI', 87996.06)\n",
      "('EN', 61643.32)\n"
     ]
    }
   ],
   "source": [
    "job_sal= conn.execute('select experience_level, round(avg(salary_in_usd),2) as salary_in_usd from ds_salaries group by experience_level  order by salary_in_usd desc ')\n",
    "for  i in job_sal.fetchall():\n",
    "    print(i)"
   ]
  },
  {
   "cell_type": "markdown",
   "metadata": {},
   "source": [
    "the size of the company impact your salary\n",
    " "
   ]
  },
  {
   "cell_type": "code",
   "execution_count": 11,
   "metadata": {},
   "outputs": [
    {
     "name": "stdout",
     "output_type": "stream",
     "text": [
      "('L', 119242.99)\n",
      "('M', 116905.47)\n",
      "('S', 77632.67)\n"
     ]
    }
   ],
   "source": [
    "comp_size = conn.execute('select company_size, round(avg(salary_in_usd),2) as salary_in_usd from ds_salaries group by company_size  order by salary_in_usd desc ')\n",
    "for  i in job_sal.fetchall():\n",
    "    print(i)"
   ]
  }
 ],
 "metadata": {
  "kernelspec": {
   "display_name": "Python 3",
   "language": "python",
   "name": "python3"
  },
  "language_info": {
   "codemirror_mode": {
    "name": "ipython",
    "version": 3
   },
   "file_extension": ".py",
   "mimetype": "text/x-python",
   "name": "python",
   "nbconvert_exporter": "python",
   "pygments_lexer": "ipython3",
   "version": "3.10.11"
  }
 },
 "nbformat": 4,
 "nbformat_minor": 2
}
